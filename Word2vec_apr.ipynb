{
  "cells": [
    {
      "cell_type": "code",
      "execution_count": 1,
      "metadata": {
        "colab": {
          "base_uri": "https://localhost:8080/"
        },
        "id": "z_18FKO28G45",
        "outputId": "284ba00a-3e87-41d9-c674-98e57c7248c3"
      },
      "outputs": [
        {
          "output_type": "stream",
          "name": "stdout",
          "text": [
            "Tue Sep 13 07:49:37 2022       \n",
            "+-----------------------------------------------------------------------------+\n",
            "| NVIDIA-SMI 460.32.03    Driver Version: 460.32.03    CUDA Version: 11.2     |\n",
            "|-------------------------------+----------------------+----------------------+\n",
            "| GPU  Name        Persistence-M| Bus-Id        Disp.A | Volatile Uncorr. ECC |\n",
            "| Fan  Temp  Perf  Pwr:Usage/Cap|         Memory-Usage | GPU-Util  Compute M. |\n",
            "|                               |                      |               MIG M. |\n",
            "|===============================+======================+======================|\n",
            "|   0  Tesla T4            Off  | 00000000:00:04.0 Off |                    0 |\n",
            "| N/A   35C    P8     9W /  70W |      0MiB / 15109MiB |      0%      Default |\n",
            "|                               |                      |                  N/A |\n",
            "+-------------------------------+----------------------+----------------------+\n",
            "                                                                               \n",
            "+-----------------------------------------------------------------------------+\n",
            "| Processes:                                                                  |\n",
            "|  GPU   GI   CI        PID   Type   Process name                  GPU Memory |\n",
            "|        ID   ID                                                   Usage      |\n",
            "|=============================================================================|\n",
            "|  No running processes found                                                 |\n",
            "+-----------------------------------------------------------------------------+\n"
          ]
        }
      ],
      "source": [
        "!/opt/bin/nvidia-smi"
      ]
    },
    {
      "cell_type": "code",
      "execution_count": 2,
      "metadata": {
        "id": "88Aq4yZzpyeW",
        "colab": {
          "base_uri": "https://localhost:8080/"
        },
        "outputId": "83b988f5-1f3c-4668-b28a-9afe57186aa7"
      },
      "outputs": [
        {
          "output_type": "stream",
          "name": "stdout",
          "text": [
            "Mounted at /content/drive\n"
          ]
        }
      ],
      "source": [
        "from google.colab import drive\n",
        "drive.mount(\"/content/drive\")"
      ]
    },
    {
      "cell_type": "code",
      "execution_count": 3,
      "metadata": {
        "id": "khhSEhAaJkF6",
        "colab": {
          "base_uri": "https://localhost:8080/"
        },
        "outputId": "3b5c13a6-8f5b-4737-e803-0f3178e5feec"
      },
      "outputs": [
        {
          "output_type": "execute_result",
          "data": {
            "text/plain": [
              "['csv2pkl.py',\n",
              " 'readfile.py',\n",
              " 'ReadMe',\n",
              " 'app.py',\n",
              " 'test.py',\n",
              " 'PA_en.py',\n",
              " 'PA_zh.py',\n",
              " '__pycache__',\n",
              " 'single_classification',\n",
              " 'pretrained_model',\n",
              " 'data',\n",
              " 'Evalutate',\n",
              " 'Dataset',\n",
              " 'All_model']"
            ]
          },
          "metadata": {},
          "execution_count": 3
        }
      ],
      "source": [
        "import os\n",
        "path=\"/content/drive/MyDrive/APR_word2vec\"\n",
        "os.chdir(path)\n",
        "os.listdir(path)"
      ]
    },
    {
      "cell_type": "code",
      "execution_count": 7,
      "metadata": {
        "colab": {
          "base_uri": "https://localhost:8080/"
        },
        "id": "Hjds9fg-px43",
        "outputId": "acef3658-a315-47b9-a446-e44fd6da1967"
      },
      "outputs": [
        {
          "output_type": "stream",
          "name": "stdout",
          "text": [
            "All Data & Title (9847, 7)\n",
            "   cEXT  ...  cOPN\n",
            "0     0  ...     1\n",
            "1     0  ...     1\n",
            "2     0  ...     1\n",
            "3     0  ...     1\n",
            "4     0  ...     1\n",
            "\n",
            "[5 rows x 5 columns]\n",
            "Before undersampling:  Counter({'cEXT': 1, 'cNEU': 1, 'cAGR': 1, 'cCON': 1, 'cOPN': 1})\n",
            "1694\n",
            "Wiki Corpus load ok\n",
            "2022-09-13 07:55:49.538511: E tensorflow/stream_executor/cuda/cuda_driver.cc:271] failed call to cuInit: CUDA_ERROR_NO_DEVICE: no CUDA-capable device is detected\n",
            "Model: \"model\"\n",
            "__________________________________________________________________________________________________\n",
            " Layer (type)                   Output Shape         Param #     Connected to                     \n",
            "==================================================================================================\n",
            " input_1 (InputLayer)           [(None, 300)]        0           []                               \n",
            "                                                                                                  \n",
            " embedding (Embedding)          (None, 300, 300)     508200      ['input_1[0][0]']                \n",
            "                                                                                                  \n",
            " global_average_pooling1d (Glob  (None, 300)         0           ['embedding[0][0]']              \n",
            " alAveragePooling1D)                                                                              \n",
            "                                                                                                  \n",
            " dense (Dense)                  (None, 1)            301         ['global_average_pooling1d[0][0]'\n",
            "                                                                 ]                                \n",
            "                                                                                                  \n",
            " dense_1 (Dense)                (None, 1)            301         ['global_average_pooling1d[0][0]'\n",
            "                                                                 ]                                \n",
            "                                                                                                  \n",
            " dense_2 (Dense)                (None, 1)            301         ['global_average_pooling1d[0][0]'\n",
            "                                                                 ]                                \n",
            "                                                                                                  \n",
            " dense_3 (Dense)                (None, 1)            301         ['global_average_pooling1d[0][0]'\n",
            "                                                                 ]                                \n",
            "                                                                                                  \n",
            " dense_4 (Dense)                (None, 1)            301         ['global_average_pooling1d[0][0]'\n",
            "                                                                 ]                                \n",
            "                                                                                                  \n",
            "==================================================================================================\n",
            "Total params: 509,705\n",
            "Trainable params: 509,705\n",
            "Non-trainable params: 0\n",
            "__________________________________________________________________________________________________\n",
            "None\n",
            "Epoch 1/50\n",
            "13/13 [==============================] - 3s 63ms/step - loss: 3.4330 - dense_loss: 0.6915 - dense_1_loss: 0.6871 - dense_2_loss: 0.6921 - dense_3_loss: 0.6915 - dense_4_loss: 0.6708 - dense_acc: 0.5629 - dense_f1: 0.0576 - dense_1_acc: 0.6201 - dense_1_f1: 0.0000e+00 - dense_2_acc: 0.5286 - dense_2_f1: 0.6438 - dense_3_acc: 0.5578 - dense_3_f1: 0.0064 - dense_4_acc: 0.6938 - dense_4_f1: 0.7872 - val_loss: 3.3894 - val_dense_loss: 0.6871 - val_dense_1_loss: 0.6788 - val_dense_2_loss: 0.6866 - val_dense_3_loss: 0.6921 - val_dense_4_loss: 0.6447 - val_dense_acc: 0.5939 - val_dense_f1: 0.0000e+00 - val_dense_1_acc: 0.6244 - val_dense_1_f1: 0.0000e+00 - val_dense_2_acc: 0.6091 - val_dense_2_f1: 0.7548 - val_dense_3_acc: 0.5228 - val_dense_3_f1: 0.0000e+00 - val_dense_4_acc: 0.7310 - val_dense_4_f1: 0.7801\n",
            "Epoch 2/50\n",
            "13/13 [==============================] - 0s 16ms/step - loss: 3.3598 - dense_loss: 0.6865 - dense_1_loss: 0.6727 - dense_2_loss: 0.6911 - dense_3_loss: 0.6869 - dense_4_loss: 0.6226 - dense_acc: 0.5743 - dense_f1: 0.0000e+00 - dense_1_acc: 0.6226 - dense_1_f1: 0.0000e+00 - dense_2_acc: 0.5388 - dense_2_f1: 0.6922 - dense_3_acc: 0.5591 - dense_3_f1: 0.0000e+00 - dense_4_acc: 0.7382 - dense_4_f1: 0.8484 - val_loss: 3.3223 - val_dense_loss: 0.6794 - val_dense_1_loss: 0.6661 - val_dense_2_loss: 0.6799 - val_dense_3_loss: 0.6937 - val_dense_4_loss: 0.6033 - val_dense_acc: 0.5939 - val_dense_f1: 0.0000e+00 - val_dense_1_acc: 0.6244 - val_dense_1_f1: 0.0000e+00 - val_dense_2_acc: 0.6091 - val_dense_2_f1: 0.7548 - val_dense_3_acc: 0.5228 - val_dense_3_f1: 0.0000e+00 - val_dense_4_acc: 0.7310 - val_dense_4_f1: 0.7801\n",
            "Epoch 3/50\n",
            "13/13 [==============================] - 0s 16ms/step - loss: 3.3086 - dense_loss: 0.6819 - dense_1_loss: 0.6644 - dense_2_loss: 0.6900 - dense_3_loss: 0.6858 - dense_4_loss: 0.5865 - dense_acc: 0.5743 - dense_f1: 0.0000e+00 - dense_1_acc: 0.6226 - dense_1_f1: 0.0000e+00 - dense_2_acc: 0.5388 - dense_2_f1: 0.7024 - dense_3_acc: 0.5591 - dense_3_f1: 0.0000e+00 - dense_4_acc: 0.7382 - dense_4_f1: 0.8534 - val_loss: 3.2976 - val_dense_loss: 0.6763 - val_dense_1_loss: 0.6619 - val_dense_2_loss: 0.6781 - val_dense_3_loss: 0.6973 - val_dense_4_loss: 0.5839 - val_dense_acc: 0.5939 - val_dense_f1: 0.0000e+00 - val_dense_1_acc: 0.6244 - val_dense_1_f1: 0.0000e+00 - val_dense_2_acc: 0.6091 - val_dense_2_f1: 0.7548 - val_dense_3_acc: 0.5228 - val_dense_3_f1: 0.0000e+00 - val_dense_4_acc: 0.7310 - val_dense_4_f1: 0.7801\n",
            "Epoch 4/50\n",
            "13/13 [==============================] - 0s 16ms/step - loss: 3.3004 - dense_loss: 0.6821 - dense_1_loss: 0.6638 - dense_2_loss: 0.6906 - dense_3_loss: 0.6874 - dense_4_loss: 0.5766 - dense_acc: 0.5743 - dense_f1: 0.0000e+00 - dense_1_acc: 0.6226 - dense_1_f1: 0.0000e+00 - dense_2_acc: 0.5388 - dense_2_f1: 0.7027 - dense_3_acc: 0.5591 - dense_3_f1: 0.0000e+00 - dense_4_acc: 0.7382 - dense_4_f1: 0.8500 - val_loss: 3.2945 - val_dense_loss: 0.6755 - val_dense_1_loss: 0.6620 - val_dense_2_loss: 0.6786 - val_dense_3_loss: 0.6958 - val_dense_4_loss: 0.5825 - val_dense_acc: 0.5939 - val_dense_f1: 0.0000e+00 - val_dense_1_acc: 0.6244 - val_dense_1_f1: 0.0000e+00 - val_dense_2_acc: 0.6091 - val_dense_2_f1: 0.7548 - val_dense_3_acc: 0.5228 - val_dense_3_f1: 0.0000e+00 - val_dense_4_acc: 0.7310 - val_dense_4_f1: 0.7801\n",
            "Epoch 5/50\n",
            "13/13 [==============================] - 0s 16ms/step - loss: 3.2952 - dense_loss: 0.6824 - dense_1_loss: 0.6625 - dense_2_loss: 0.6898 - dense_3_loss: 0.6860 - dense_4_loss: 0.5745 - dense_acc: 0.5743 - dense_f1: 0.0000e+00 - dense_1_acc: 0.6226 - dense_1_f1: 0.0000e+00 - dense_2_acc: 0.5388 - dense_2_f1: 0.7071 - dense_3_acc: 0.5591 - dense_3_f1: 0.0000e+00 - dense_4_acc: 0.7382 - dense_4_f1: 0.8504 - val_loss: 3.2936 - val_dense_loss: 0.6759 - val_dense_1_loss: 0.6618 - val_dense_2_loss: 0.6773 - val_dense_3_loss: 0.6959 - val_dense_4_loss: 0.5826 - val_dense_acc: 0.5939 - val_dense_f1: 0.0000e+00 - val_dense_1_acc: 0.6244 - val_dense_1_f1: 0.0000e+00 - val_dense_2_acc: 0.6091 - val_dense_2_f1: 0.7548 - val_dense_3_acc: 0.5228 - val_dense_3_f1: 0.0000e+00 - val_dense_4_acc: 0.7310 - val_dense_4_f1: 0.7801\n",
            "Epoch 6/50\n",
            "13/13 [==============================] - 0s 15ms/step - loss: 3.2958 - dense_loss: 0.6822 - dense_1_loss: 0.6624 - dense_2_loss: 0.6902 - dense_3_loss: 0.6866 - dense_4_loss: 0.5744 - dense_acc: 0.5743 - dense_f1: 0.0000e+00 - dense_1_acc: 0.6226 - dense_1_f1: 0.0000e+00 - dense_2_acc: 0.5388 - dense_2_f1: 0.6861 - dense_3_acc: 0.5591 - dense_3_f1: 0.0000e+00 - dense_4_acc: 0.7382 - dense_4_f1: 0.8487 - val_loss: 3.2915 - val_dense_loss: 0.6767 - val_dense_1_loss: 0.6619 - val_dense_2_loss: 0.6762 - val_dense_3_loss: 0.6941 - val_dense_4_loss: 0.5826 - val_dense_acc: 0.5939 - val_dense_f1: 0.0000e+00 - val_dense_1_acc: 0.6244 - val_dense_1_f1: 0.0000e+00 - val_dense_2_acc: 0.6091 - val_dense_2_f1: 0.7548 - val_dense_3_acc: 0.5228 - val_dense_3_f1: 0.0000e+00 - val_dense_4_acc: 0.7310 - val_dense_4_f1: 0.7801\n",
            "Epoch 7/50\n",
            "13/13 [==============================] - 0s 15ms/step - loss: 3.2953 - dense_loss: 0.6825 - dense_1_loss: 0.6626 - dense_2_loss: 0.6902 - dense_3_loss: 0.6859 - dense_4_loss: 0.5741 - dense_acc: 0.5743 - dense_f1: 0.0000e+00 - dense_1_acc: 0.6226 - dense_1_f1: 0.0000e+00 - dense_2_acc: 0.5388 - dense_2_f1: 0.7003 - dense_3_acc: 0.5591 - dense_3_f1: 0.0000e+00 - dense_4_acc: 0.7382 - dense_4_f1: 0.8508 - val_loss: 3.2945 - val_dense_loss: 0.6757 - val_dense_1_loss: 0.6619 - val_dense_2_loss: 0.6807 - val_dense_3_loss: 0.6939 - val_dense_4_loss: 0.5823 - val_dense_acc: 0.5939 - val_dense_f1: 0.0000e+00 - val_dense_1_acc: 0.6244 - val_dense_1_f1: 0.0000e+00 - val_dense_2_acc: 0.6091 - val_dense_2_f1: 0.7548 - val_dense_3_acc: 0.5228 - val_dense_3_f1: 0.0000e+00 - val_dense_4_acc: 0.7310 - val_dense_4_f1: 0.7801\n",
            "Epoch 8/50\n",
            "13/13 [==============================] - 0s 15ms/step - loss: 3.2942 - dense_loss: 0.6818 - dense_1_loss: 0.6624 - dense_2_loss: 0.6899 - dense_3_loss: 0.6860 - dense_4_loss: 0.5742 - dense_acc: 0.5743 - dense_f1: 0.0000e+00 - dense_1_acc: 0.6226 - dense_1_f1: 0.0000e+00 - dense_2_acc: 0.5388 - dense_2_f1: 0.6968 - dense_3_acc: 0.5591 - dense_3_f1: 0.0000e+00 - dense_4_acc: 0.7382 - dense_4_f1: 0.8495 - val_loss: 3.2945 - val_dense_loss: 0.6762 - val_dense_1_loss: 0.6618 - val_dense_2_loss: 0.6789 - val_dense_3_loss: 0.6954 - val_dense_4_loss: 0.5822 - val_dense_acc: 0.5939 - val_dense_f1: 0.0000e+00 - val_dense_1_acc: 0.6244 - val_dense_1_f1: 0.0000e+00 - val_dense_2_acc: 0.6091 - val_dense_2_f1: 0.7548 - val_dense_3_acc: 0.5228 - val_dense_3_f1: 0.0000e+00 - val_dense_4_acc: 0.7310 - val_dense_4_f1: 0.7801\n",
            "Epoch 9/50\n",
            "13/13 [==============================] - 0s 15ms/step - loss: 3.2928 - dense_loss: 0.6814 - dense_1_loss: 0.6622 - dense_2_loss: 0.6896 - dense_3_loss: 0.6857 - dense_4_loss: 0.5739 - dense_acc: 0.5743 - dense_f1: 0.0000e+00 - dense_1_acc: 0.6226 - dense_1_f1: 0.0000e+00 - dense_2_acc: 0.5388 - dense_2_f1: 0.7011 - dense_3_acc: 0.5591 - dense_3_f1: 0.0000e+00 - dense_4_acc: 0.7382 - dense_4_f1: 0.8469 - val_loss: 3.2953 - val_dense_loss: 0.6757 - val_dense_1_loss: 0.6619 - val_dense_2_loss: 0.6797 - val_dense_3_loss: 0.6957 - val_dense_4_loss: 0.5823 - val_dense_acc: 0.5939 - val_dense_f1: 0.0000e+00 - val_dense_1_acc: 0.6244 - val_dense_1_f1: 0.0000e+00 - val_dense_2_acc: 0.6091 - val_dense_2_f1: 0.7548 - val_dense_3_acc: 0.5228 - val_dense_3_f1: 0.0000e+00 - val_dense_4_acc: 0.7310 - val_dense_4_f1: 0.7801\n",
            "Epoch 10/50\n",
            "13/13 [==============================] - 0s 15ms/step - loss: 3.2931 - dense_loss: 0.6817 - dense_1_loss: 0.6623 - dense_2_loss: 0.6898 - dense_3_loss: 0.6856 - dense_4_loss: 0.5737 - dense_acc: 0.5743 - dense_f1: 0.0000e+00 - dense_1_acc: 0.6226 - dense_1_f1: 0.0000e+00 - dense_2_acc: 0.5388 - dense_2_f1: 0.6982 - dense_3_acc: 0.5591 - dense_3_f1: 0.0000e+00 - dense_4_acc: 0.7382 - dense_4_f1: 0.8480 - val_loss: 3.2929 - val_dense_loss: 0.6760 - val_dense_1_loss: 0.6621 - val_dense_2_loss: 0.6783 - val_dense_3_loss: 0.6945 - val_dense_4_loss: 0.5821 - val_dense_acc: 0.5939 - val_dense_f1: 0.0000e+00 - val_dense_1_acc: 0.6244 - val_dense_1_f1: 0.0000e+00 - val_dense_2_acc: 0.6091 - val_dense_2_f1: 0.7548 - val_dense_3_acc: 0.5228 - val_dense_3_f1: 0.0000e+00 - val_dense_4_acc: 0.7310 - val_dense_4_f1: 0.7801\n",
            "Epoch 11/50\n",
            "10/13 [======================>.......] - ETA: 0s - loss: 3.3008 - dense_loss: 0.6782 - dense_1_loss: 0.6655 - dense_2_loss: 0.6889 - dense_3_loss: 0.6854 - dense_4_loss: 0.5827 - dense_acc: 0.5844 - dense_f1: 0.0000e+00 - dense_1_acc: 0.6156 - dense_1_f1: 0.0000e+00 - dense_2_acc: 0.5437 - dense_2_f1: 0.7028 - dense_3_acc: 0.5594 - dense_3_f1: 0.0000e+00 - dense_4_acc: 0.7297 - dense_4_f1: 0.8422Restoring model weights from the end of the best epoch: 6.\n",
            "13/13 [==============================] - 0s 16ms/step - loss: 3.2929 - dense_loss: 0.6814 - dense_1_loss: 0.6623 - dense_2_loss: 0.6896 - dense_3_loss: 0.6854 - dense_4_loss: 0.5742 - dense_acc: 0.5743 - dense_f1: 0.0000e+00 - dense_1_acc: 0.6226 - dense_1_f1: 0.0000e+00 - dense_2_acc: 0.5388 - dense_2_f1: 0.7045 - dense_3_acc: 0.5591 - dense_3_f1: 0.0000e+00 - dense_4_acc: 0.7382 - dense_4_f1: 0.8461 - val_loss: 3.2937 - val_dense_loss: 0.6760 - val_dense_1_loss: 0.6619 - val_dense_2_loss: 0.6797 - val_dense_3_loss: 0.6941 - val_dense_4_loss: 0.5820 - val_dense_acc: 0.5939 - val_dense_f1: 0.0000e+00 - val_dense_1_acc: 0.6244 - val_dense_1_f1: 0.0000e+00 - val_dense_2_acc: 0.6091 - val_dense_2_f1: 0.7548 - val_dense_3_acc: 0.5228 - val_dense_3_f1: 0.0000e+00 - val_dense_4_acc: 0.7310 - val_dense_4_f1: 0.7801\n",
            "Epoch 11: early stopping\n",
            "Training:\n",
            "外向性E Loss : 0.6814 Acc : 0.5743 F1 score : 0.0576\n",
            "神經質N Loss : 0.6622 Acc : 0.6226 F1 score : 0.0000\n",
            "親和性A Loss : 0.6896 Acc : 0.5388 F1 score : 0.7071\n",
            "盡責性C Loss : 0.6854 Acc : 0.5591 F1 score : 0.0064\n",
            "開放性O Loss : 0.5737 Acc : 0.7382 F1 score : 0.8534\n",
            "=====================================================================================\n",
            "Validation:\n",
            "外向性E Loss : 0.6755 Acc : 0.5939 F1 score : 0.0000\n",
            "神經質N Loss : 0.6618 Acc : 0.6244 F1 score : 0.0000\n",
            "親和性A Loss : 0.6762 Acc : 0.6091 F1 score : 0.7548\n",
            "盡責性C Loss : 0.6921 Acc : 0.5228 F1 score : 0.0000\n",
            "開放性O Loss : 0.5820 Acc : 0.7310 F1 score : 0.7801\n",
            "=====================================================================================\n",
            "Test:\n",
            "277/277 [==============================] - 1s 3ms/step - loss: 3.2954 - dense_loss: 0.6824 - dense_1_loss: 0.6609 - dense_2_loss: 0.6919 - dense_3_loss: 0.6905 - dense_4_loss: 0.5698 - dense_acc: 0.5733 - dense_f1: 0.0000e+00 - dense_1_acc: 0.6264 - dense_1_f1: 0.0000e+00 - dense_2_acc: 0.5315 - dense_2_f1: 0.6899 - dense_3_acc: 0.5393 - dense_3_f1: 0.0000e+00 - dense_4_acc: 0.7432 - dense_4_f1: 0.8506\n",
            "外向性E Loss : 0.6824 Acc : 0.5733 F1 score : 0.0000\n",
            "神經質N Loss : 0.6609 Acc : 0.6264 F1 score : 0.0000\n",
            "親和性A Loss : 0.6919 Acc : 0.5315 F1 score : 0.6899\n",
            "盡責性C Loss : 0.6905 Acc : 0.5393 F1 score : 0.0000\n",
            "開放性O Loss : 0.5698 Acc : 0.7432 F1 score : 0.8506\n",
            "total cost time : 73.81\n"
          ]
        }
      ],
      "source": [
        "!python PA_zh.py"
      ]
    }
  ],
  "metadata": {
    "accelerator": "GPU",
    "colab": {
      "collapsed_sections": [],
      "machine_shape": "hm",
      "provenance": []
    },
    "kernelspec": {
      "display_name": "Python 3",
      "name": "python3"
    },
    "language_info": {
      "name": "python"
    }
  },
  "nbformat": 4,
  "nbformat_minor": 0
}